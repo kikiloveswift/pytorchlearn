{
 "cells": [
  {
   "cell_type": "code",
   "execution_count": 7,
   "id": "initial_id",
   "metadata": {
    "collapsed": true,
    "ExecuteTime": {
     "end_time": "2024-01-01T13:42:11.825171800Z",
     "start_time": "2024-01-01T13:42:11.805626100Z"
    }
   },
   "outputs": [
    {
     "name": "stdout",
     "output_type": "stream",
     "text": [
      "范数 p1 曼哈顿距离是：9\n"
     ]
    }
   ],
   "source": [
    "import numpy as np\n",
    "vector1 = np.array([1, 2, 3])\n",
    "vector2 = np.array([4, 5, 6])\n",
    "\n",
    "manhatone_distance = np.sum(np.abs(vector1 - vector2))\n",
    "print(f\"范数 p1 曼哈顿距离是：{manhatone_distance}\")"
   ]
  },
  {
   "cell_type": "code",
   "execution_count": 10,
   "outputs": [
    {
     "name": "stdout",
     "output_type": "stream",
     "text": [
      "范数 p2 欧式距离 Distance: 5.196152422706632\n"
     ]
    }
   ],
   "source": [
    "import numpy as np\n",
    "vector1 = np.array([1, 2, 3])\n",
    "vector2 = np.array([4, 5, 6])\n",
    "## np.linalg.norm(vector1-vector2) 还可以用这个方式来计算\n",
    "edu_distance = np.sqrt(np.sum((vector1-vector2)**2))\n",
    "print(\"范数 p2 欧式距离 Distance: {}\".format(edu_distance))"
   ],
   "metadata": {
    "collapsed": false,
    "ExecuteTime": {
     "end_time": "2024-01-01T13:46:03.170037Z",
     "start_time": "2024-01-01T13:46:03.153035300Z"
    }
   },
   "id": "3fb4a4942ad1762e"
  },
  {
   "cell_type": "markdown",
   "source": [
    "## 切比雪夫距离\n",
    "### 对应无穷范数 p "
   ],
   "metadata": {
    "collapsed": false
   },
   "id": "8e3fa07b8f6375d6"
  },
  {
   "cell_type": "code",
   "execution_count": 11,
   "outputs": [
    {
     "name": "stdout",
     "output_type": "stream",
     "text": [
      "切比雪夫距离为 cb_distance: 3\n"
     ]
    }
   ],
   "source": [
    "import numpy as np\n",
    "vector1 = np.array([1, 2, 3])\n",
    "vector2 = np.array([4, 5, 6])\n",
    "cb_distance = np.max(np.abs(vector1-vector2))\n",
    "print(\"切比雪夫距离为 cb_distance: {}\".format(cb_distance))"
   ],
   "metadata": {
    "collapsed": false,
    "ExecuteTime": {
     "end_time": "2024-01-01T13:48:28.397252500Z",
     "start_time": "2024-01-01T13:48:28.378253400Z"
    }
   },
   "id": "9c761c5b6ccf4bdb"
  },
  {
   "cell_type": "code",
   "execution_count": null,
   "outputs": [],
   "source": [],
   "metadata": {
    "collapsed": false
   },
   "id": "cfe354dec5dac321"
  }
 ],
 "metadata": {
  "kernelspec": {
   "display_name": "Python 3",
   "language": "python",
   "name": "python3"
  },
  "language_info": {
   "codemirror_mode": {
    "name": "ipython",
    "version": 2
   },
   "file_extension": ".py",
   "mimetype": "text/x-python",
   "name": "python",
   "nbconvert_exporter": "python",
   "pygments_lexer": "ipython2",
   "version": "2.7.6"
  }
 },
 "nbformat": 4,
 "nbformat_minor": 5
}
