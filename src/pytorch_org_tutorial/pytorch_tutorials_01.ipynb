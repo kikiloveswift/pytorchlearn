{
 "cells": [
  {
   "cell_type": "code",
   "execution_count": 37,
   "id": "initial_id",
   "metadata": {
    "collapsed": true,
    "ExecuteTime": {
     "end_time": "2023-12-16T13:31:41.106887400Z",
     "start_time": "2023-12-16T13:31:41.095999900Z"
    }
   },
   "outputs": [],
   "source": [
    "import torch\n",
    "from torch import nn\n",
    "from torch.utils.data import DataLoader, dataloader\n",
    "from torchvision import datasets\n",
    "from torchvision.transforms import ToTensor"
   ]
  },
  {
   "cell_type": "markdown",
   "source": [
    "### 一、下载训练数据，从开源数据上下载"
   ],
   "metadata": {
    "collapsed": false
   },
   "id": "797da83fc5e0035a"
  },
  {
   "cell_type": "code",
   "execution_count": 38,
   "outputs": [],
   "source": [
    "train_dataset = datasets.FashionMNIST(root='./data', train=True, download=True, transform=ToTensor())\n",
    "test_dataset = datasets.FashionMNIST(root='./data', train=False, download=True, transform=ToTensor())"
   ],
   "metadata": {
    "collapsed": false,
    "ExecuteTime": {
     "end_time": "2023-12-16T13:31:41.149117800Z",
     "start_time": "2023-12-16T13:31:41.107907Z"
    }
   },
   "id": "8786203d89be8386"
  },
  {
   "cell_type": "code",
   "execution_count": 39,
   "outputs": [
    {
     "name": "stdout",
     "output_type": "stream",
     "text": [
      "Shape of X [N, C, H, W]: torch.Size([64, 1, 28, 28])\n",
      "Shape of y: torch.Size([64]) torch.int64\n"
     ]
    }
   ],
   "source": [
    "batch_size = 64\n",
    "\n",
    "# 创建 data_loader\n",
    "train_dataloader = DataLoader(train_dataset, batch_size=batch_size)\n",
    "test_dataloader = DataLoader(test_dataset, batch_size=batch_size)\n",
    "\n",
    "for X, y in train_dataloader:\n",
    "    print(f\"Shape of X [N, C, H, W]: {X.shape}\")\n",
    "    print(f\"Shape of y: {y.shape} {y.dtype}\")\n",
    "    break"
   ],
   "metadata": {
    "collapsed": false,
    "ExecuteTime": {
     "end_time": "2023-12-16T13:31:41.194771700Z",
     "start_time": "2023-12-16T13:31:41.151116900Z"
    }
   },
   "id": "b3176902e72a069d"
  },
  {
   "cell_type": "code",
   "execution_count": 40,
   "outputs": [
    {
     "name": "stdout",
     "output_type": "stream",
     "text": [
      "using Device: cuda\n",
      "NeuralNetwork(\n",
      "  (flatten): Flatten(start_dim=1, end_dim=-1)\n",
      "  (linear_relu_stack): Sequential(\n",
      "    (0): Linear(in_features=784, out_features=512, bias=True)\n",
      "    (1): ReLU(inplace=True)\n",
      "    (2): Linear(in_features=512, out_features=512, bias=True)\n",
      "    (3): ReLU(inplace=True)\n",
      "    (4): Linear(in_features=512, out_features=10, bias=True)\n",
      "  )\n",
      ")\n"
     ]
    }
   ],
   "source": [
    "device = (\n",
    "    \"cuda\"\n",
    "    if torch.cuda.is_available()\n",
    "    else \"mps\"\n",
    "    if torch.backends.mps.is_available()\n",
    "    else \"cpu\"\n",
    ")\n",
    "print(f\"using Device: {device}\")\n",
    "\n",
    "# define Model\n",
    "class NeuralNetwork(nn.Module):\n",
    "    def __init__(self):\n",
    "        super(NeuralNetwork, self).__init__()\n",
    "        self.flatten = nn.Flatten()\n",
    "        self.linear_relu_stack = nn.Sequential(\n",
    "            nn.Linear(28 * 28, 512),\n",
    "            nn.ReLU(True),\n",
    "            nn.Linear(512, 512),\n",
    "            nn.ReLU(True),\n",
    "            nn.Linear(512, 10)\n",
    "        )\n",
    "        \n",
    "    def forward(self, x):\n",
    "        x = self.flatten(x)\n",
    "        logits = self.linear_relu_stack(x)\n",
    "        return logits\n",
    "model = NeuralNetwork().to(device)\n",
    "print(model)"
   ],
   "metadata": {
    "collapsed": false,
    "ExecuteTime": {
     "end_time": "2023-12-16T13:31:41.217007800Z",
     "start_time": "2023-12-16T13:31:41.167002800Z"
    }
   },
   "id": "b8b0b575095ab0fb"
  },
  {
   "cell_type": "code",
   "execution_count": 41,
   "outputs": [],
   "source": [
    "# 定义损失函数\n",
    "loss_fn = nn.CrossEntropyLoss()\n",
    "optimizer = torch.optim.SGD(model.parameters(), lr=1e-3)"
   ],
   "metadata": {
    "collapsed": false,
    "ExecuteTime": {
     "end_time": "2023-12-16T13:31:41.218007800Z",
     "start_time": "2023-12-16T13:31:41.198377500Z"
    }
   },
   "id": "545bb9c263016cdd"
  },
  {
   "cell_type": "code",
   "execution_count": 42,
   "outputs": [],
   "source": [
    "def train(dataloader, model, loss_fn, optimizer):\n",
    "    size = len(dataloader.dataset)\n",
    "    model.train()\n",
    "    for batch, (X, y) in enumerate(dataloader):\n",
    "        X, y = X.to(device), y.to(device)\n",
    "        \n",
    "        pred = model(X)\n",
    "        loss = loss_fn(pred, y)\n",
    "        \n",
    "        # 反向传播\n",
    "        loss.backward()\n",
    "        optimizer.step()\n",
    "        optimizer.zero_grad()\n",
    "        if batch % 100 == 0:\n",
    "            loss, current = loss.item(), (batch + 1) * len(X)\n",
    "            print(f\"Loss: {loss:7f} [{current:>5d}/{size:>5d}]\")"
   ],
   "metadata": {
    "collapsed": false,
    "ExecuteTime": {
     "end_time": "2023-12-16T13:31:41.227009Z",
     "start_time": "2023-12-16T13:31:41.214008500Z"
    }
   },
   "id": "f5247f491c7c159"
  },
  {
   "cell_type": "code",
   "execution_count": 43,
   "outputs": [],
   "source": [
    "def test(dataloader, model, loss_fn):\n",
    "    size = len(dataloader.dataset)\n",
    "    num_batches = len(dataloader)\n",
    "    model.eval()\n",
    "    test_loss, correct = 0, 0\n",
    "    with torch.no_grad():\n",
    "        for X, y in dataloader:\n",
    "            X, y = X.to(device), y.to(device)\n",
    "            pred = model(X)\n",
    "            test_loss += loss_fn(pred, y).item()\n",
    "            correct += (pred.argmax(dim=1) == y).type(torch.float).sum().item()\n",
    "    test_loss /= num_batches\n",
    "    correct /= size\n",
    "    print(f\"Test Error: \\nAverage loss: {(100*correct):>0.1f}%, Avg loss: {(test_loss):>8f}\\n\")"
   ],
   "metadata": {
    "collapsed": false,
    "ExecuteTime": {
     "end_time": "2023-12-16T13:31:41.248886300Z",
     "start_time": "2023-12-16T13:31:41.230008100Z"
    }
   },
   "id": "aba4dfebfd3527c"
  },
  {
   "cell_type": "code",
   "execution_count": 44,
   "outputs": [
    {
     "name": "stdout",
     "output_type": "stream",
     "text": [
      "Epoch 1/5\n",
      "Loss: 2.298065 [   64/60000]\n",
      "Loss: 2.284890 [ 6464/60000]\n",
      "Loss: 2.267618 [12864/60000]\n",
      "Loss: 2.262902 [19264/60000]\n",
      "Loss: 2.240703 [25664/60000]\n",
      "Loss: 2.207161 [32064/60000]\n",
      "Loss: 2.222152 [38464/60000]\n",
      "Loss: 2.176962 [44864/60000]\n",
      "Loss: 2.182051 [51264/60000]\n",
      "Loss: 2.161593 [57664/60000]\n",
      "Test Error: \n",
      "Average loss: 47.3%, Avg loss: 2.142930\n",
      "\n",
      "Epoch 2/5\n",
      "Loss: 2.146550 [   64/60000]\n",
      "Loss: 2.135390 [ 6464/60000]\n",
      "Loss: 2.080683 [12864/60000]\n",
      "Loss: 2.104974 [19264/60000]\n",
      "Loss: 2.038049 [25664/60000]\n",
      "Loss: 1.978109 [32064/60000]\n",
      "Loss: 2.012372 [38464/60000]\n",
      "Loss: 1.921444 [44864/60000]\n",
      "Loss: 1.941307 [51264/60000]\n",
      "Loss: 1.878718 [57664/60000]\n",
      "Test Error: \n",
      "Average loss: 56.2%, Avg loss: 1.865853\n",
      "\n",
      "Epoch 3/5\n",
      "Loss: 1.889373 [   64/60000]\n",
      "Loss: 1.861230 [ 6464/60000]\n",
      "Loss: 1.749989 [12864/60000]\n",
      "Loss: 1.798509 [19264/60000]\n",
      "Loss: 1.670526 [25664/60000]\n",
      "Loss: 1.628932 [32064/60000]\n",
      "Loss: 1.653092 [38464/60000]\n",
      "Loss: 1.548115 [44864/60000]\n",
      "Loss: 1.592364 [51264/60000]\n",
      "Loss: 1.483007 [57664/60000]\n",
      "Test Error: \n",
      "Average loss: 61.6%, Avg loss: 1.498713\n",
      "\n",
      "Epoch 4/5\n",
      "Loss: 1.561256 [   64/60000]\n",
      "Loss: 1.526721 [ 6464/60000]\n",
      "Loss: 1.384751 [12864/60000]\n",
      "Loss: 1.452497 [19264/60000]\n",
      "Loss: 1.328721 [25664/60000]\n",
      "Loss: 1.327555 [32064/60000]\n",
      "Loss: 1.338488 [38464/60000]\n",
      "Loss: 1.261845 [44864/60000]\n",
      "Loss: 1.314906 [51264/60000]\n",
      "Loss: 1.204805 [57664/60000]\n",
      "Test Error: \n",
      "Average loss: 63.4%, Avg loss: 1.234601\n",
      "\n",
      "Epoch 5/5\n",
      "Loss: 1.309188 [   64/60000]\n",
      "Loss: 1.289023 [ 6464/60000]\n",
      "Loss: 1.132651 [12864/60000]\n",
      "Loss: 1.229318 [19264/60000]\n",
      "Loss: 1.108598 [25664/60000]\n",
      "Loss: 1.131004 [32064/60000]\n",
      "Loss: 1.148644 [38464/60000]\n",
      "Loss: 1.085374 [44864/60000]\n",
      "Loss: 1.142884 [51264/60000]\n",
      "Loss: 1.047274 [57664/60000]\n",
      "Test Error: \n",
      "Average loss: 64.6%, Avg loss: 1.072819\n",
      "\n",
      "Done!\n"
     ]
    }
   ],
   "source": [
    "epochs = 5\n",
    "for epoch in range(epochs):\n",
    "    print('Epoch {}/{}'.format(epoch+1, epochs))\n",
    "    train(train_dataloader, model, loss_fn, optimizer)\n",
    "    test(test_dataloader, model, loss_fn)\n",
    "print(\"Done!\")"
   ],
   "metadata": {
    "collapsed": false,
    "ExecuteTime": {
     "end_time": "2023-12-16T13:32:22.087140300Z",
     "start_time": "2023-12-16T13:31:41.243889100Z"
    }
   },
   "id": "3bababf8ad3f13d8"
  }
 ],
 "metadata": {
  "kernelspec": {
   "display_name": "Python 3",
   "language": "python",
   "name": "python3"
  },
  "language_info": {
   "codemirror_mode": {
    "name": "ipython",
    "version": 2
   },
   "file_extension": ".py",
   "mimetype": "text/x-python",
   "name": "python",
   "nbconvert_exporter": "python",
   "pygments_lexer": "ipython2",
   "version": "2.7.6"
  }
 },
 "nbformat": 4,
 "nbformat_minor": 5
}
