{
 "cells": [
  {
   "cell_type": "code",
   "execution_count": 46,
   "id": "initial_id",
   "metadata": {
    "collapsed": true,
    "ExecuteTime": {
     "end_time": "2023-12-16T13:42:12.384838100Z",
     "start_time": "2023-12-16T13:42:12.358836600Z"
    }
   },
   "outputs": [],
   "source": [
    "import torch\n",
    "from torch import nn\n",
    "from torch.utils.data import DataLoader, dataloader\n",
    "from torchvision import datasets\n",
    "from torchvision.transforms import ToTensor"
   ]
  },
  {
   "cell_type": "markdown",
   "source": [
    "### 一、下载训练数据，从开源数据上下载"
   ],
   "metadata": {
    "collapsed": false
   },
   "id": "797da83fc5e0035a"
  },
  {
   "cell_type": "code",
   "execution_count": 47,
   "outputs": [],
   "source": [
    "train_dataset = datasets.FashionMNIST(root='./data', train=True, download=True, transform=ToTensor())\n",
    "test_dataset = datasets.FashionMNIST(root='./data', train=False, download=True, transform=ToTensor())"
   ],
   "metadata": {
    "collapsed": false,
    "ExecuteTime": {
     "end_time": "2023-12-16T13:42:12.405839300Z",
     "start_time": "2023-12-16T13:42:12.369836300Z"
    }
   },
   "id": "8786203d89be8386"
  },
  {
   "cell_type": "code",
   "execution_count": 48,
   "outputs": [
    {
     "name": "stdout",
     "output_type": "stream",
     "text": [
      "Shape of X [N, C, H, W]: torch.Size([64, 1, 28, 28])\n",
      "Shape of y: torch.Size([64]) torch.int64\n"
     ]
    }
   ],
   "source": [
    "batch_size = 64\n",
    "\n",
    "# 创建 data_loader\n",
    "train_dataloader = DataLoader(train_dataset, batch_size=batch_size)\n",
    "test_dataloader = DataLoader(test_dataset, batch_size=batch_size)\n",
    "\n",
    "for X, y in train_dataloader:\n",
    "    print(f\"Shape of X [N, C, H, W]: {X.shape}\")\n",
    "    print(f\"Shape of y: {y.shape} {y.dtype}\")\n",
    "    break"
   ],
   "metadata": {
    "collapsed": false,
    "ExecuteTime": {
     "end_time": "2023-12-16T13:42:12.415837600Z",
     "start_time": "2023-12-16T13:42:12.400836700Z"
    }
   },
   "id": "b3176902e72a069d"
  },
  {
   "cell_type": "code",
   "execution_count": 49,
   "outputs": [
    {
     "name": "stdout",
     "output_type": "stream",
     "text": [
      "using Device: cuda\n",
      "NeuralNetwork(\n",
      "  (flatten): Flatten(start_dim=1, end_dim=-1)\n",
      "  (linear_relu_stack): Sequential(\n",
      "    (0): Linear(in_features=784, out_features=512, bias=True)\n",
      "    (1): ReLU(inplace=True)\n",
      "    (2): Linear(in_features=512, out_features=512, bias=True)\n",
      "    (3): ReLU(inplace=True)\n",
      "    (4): Linear(in_features=512, out_features=10, bias=True)\n",
      "  )\n",
      ")\n"
     ]
    }
   ],
   "source": [
    "device = (\n",
    "    \"cuda\"\n",
    "    if torch.cuda.is_available()\n",
    "    else \"mps\"\n",
    "    if torch.backends.mps.is_available()\n",
    "    else \"cpu\"\n",
    ")\n",
    "print(f\"using Device: {device}\")\n",
    "\n",
    "# define Model\n",
    "class NeuralNetwork(nn.Module):\n",
    "    def __init__(self):\n",
    "        super(NeuralNetwork, self).__init__()\n",
    "        self.flatten = nn.Flatten()\n",
    "        self.linear_relu_stack = nn.Sequential(\n",
    "            nn.Linear(28 * 28, 512),\n",
    "            nn.ReLU(True),\n",
    "            nn.Linear(512, 512),\n",
    "            nn.ReLU(True),\n",
    "            nn.Linear(512, 10)\n",
    "        )\n",
    "        \n",
    "    def forward(self, x):\n",
    "        x = self.flatten(x)\n",
    "        logits = self.linear_relu_stack(x)\n",
    "        return logits\n",
    "model = NeuralNetwork().to(device)\n",
    "print(model)"
   ],
   "metadata": {
    "collapsed": false,
    "ExecuteTime": {
     "end_time": "2023-12-16T13:42:12.432838600Z",
     "start_time": "2023-12-16T13:42:12.417839100Z"
    }
   },
   "id": "b8b0b575095ab0fb"
  },
  {
   "cell_type": "code",
   "execution_count": 50,
   "outputs": [],
   "source": [
    "# 定义损失函数\n",
    "loss_fn = nn.CrossEntropyLoss()\n",
    "optimizer = torch.optim.SGD(model.parameters(), lr=1e-3)"
   ],
   "metadata": {
    "collapsed": false,
    "ExecuteTime": {
     "end_time": "2023-12-16T13:42:12.446837600Z",
     "start_time": "2023-12-16T13:42:12.431839400Z"
    }
   },
   "id": "545bb9c263016cdd"
  },
  {
   "cell_type": "code",
   "execution_count": 51,
   "outputs": [],
   "source": [
    "def train(dataloader, model, loss_fn, optimizer):\n",
    "    size = len(dataloader.dataset)\n",
    "    model.train()\n",
    "    for batch, (X, y) in enumerate(dataloader):\n",
    "        X, y = X.to(device), y.to(device)\n",
    "        \n",
    "        pred = model(X)\n",
    "        loss = loss_fn(pred, y)\n",
    "        \n",
    "        # 反向传播\n",
    "        loss.backward()\n",
    "        optimizer.step()\n",
    "        optimizer.zero_grad()\n",
    "        if batch % 100 == 0:\n",
    "            loss, current = loss.item(), (batch + 1) * len(X)\n",
    "            print(f\"Loss: {loss:7f} [{current:>5d}/{size:>5d}]\")"
   ],
   "metadata": {
    "collapsed": false,
    "ExecuteTime": {
     "end_time": "2023-12-16T13:42:12.478836900Z",
     "start_time": "2023-12-16T13:42:12.448837900Z"
    }
   },
   "id": "f5247f491c7c159"
  },
  {
   "cell_type": "code",
   "execution_count": 52,
   "outputs": [],
   "source": [
    "def test(dataloader, model, loss_fn):\n",
    "    size = len(dataloader.dataset)\n",
    "    num_batches = len(dataloader)\n",
    "    model.eval()\n",
    "    test_loss, correct = 0, 0\n",
    "    with torch.no_grad():\n",
    "        for X, y in dataloader:\n",
    "            X, y = X.to(device), y.to(device)\n",
    "            pred = model(X)\n",
    "            test_loss += loss_fn(pred, y).item()\n",
    "            correct += (pred.argmax(dim=1) == y).type(torch.float).sum().item()\n",
    "    test_loss /= num_batches\n",
    "    correct /= size\n",
    "    print(f\"Test Error: \\nAverage loss: {(100*correct):>0.1f}%, Avg loss: {(test_loss):>8f}\\n\")"
   ],
   "metadata": {
    "collapsed": false,
    "ExecuteTime": {
     "end_time": "2023-12-16T13:42:12.478836900Z",
     "start_time": "2023-12-16T13:42:12.463836800Z"
    }
   },
   "id": "aba4dfebfd3527c"
  },
  {
   "cell_type": "code",
   "execution_count": 53,
   "outputs": [
    {
     "name": "stdout",
     "output_type": "stream",
     "text": [
      "Epoch 1/5\n",
      "Loss: 2.301281 [   64/60000]\n",
      "Loss: 2.286768 [ 6464/60000]\n",
      "Loss: 2.273709 [12864/60000]\n",
      "Loss: 2.270611 [19264/60000]\n",
      "Loss: 2.250524 [25664/60000]\n",
      "Loss: 2.221148 [32064/60000]\n",
      "Loss: 2.224945 [38464/60000]\n",
      "Loss: 2.188359 [44864/60000]\n",
      "Loss: 2.180783 [51264/60000]\n",
      "Loss: 2.152264 [57664/60000]\n",
      "Test Error: \n",
      "Average loss: 45.8%, Avg loss: 2.143187\n",
      "\n",
      "Epoch 2/5\n",
      "Loss: 2.153884 [   64/60000]\n",
      "Loss: 2.135308 [ 6464/60000]\n",
      "Loss: 2.085690 [12864/60000]\n",
      "Loss: 2.105088 [19264/60000]\n",
      "Loss: 2.056637 [25664/60000]\n",
      "Loss: 1.992226 [32064/60000]\n",
      "Loss: 2.011758 [38464/60000]\n",
      "Loss: 1.932681 [44864/60000]\n",
      "Loss: 1.930069 [51264/60000]\n",
      "Loss: 1.856909 [57664/60000]\n",
      "Test Error: \n",
      "Average loss: 61.7%, Avg loss: 1.857714\n",
      "\n",
      "Epoch 3/5\n",
      "Loss: 1.893032 [   64/60000]\n",
      "Loss: 1.849621 [ 6464/60000]\n",
      "Loss: 1.743685 [12864/60000]\n",
      "Loss: 1.786298 [19264/60000]\n",
      "Loss: 1.688366 [25664/60000]\n",
      "Loss: 1.635465 [32064/60000]\n",
      "Loss: 1.642881 [38464/60000]\n",
      "Loss: 1.554296 [44864/60000]\n",
      "Loss: 1.568438 [51264/60000]\n",
      "Loss: 1.463093 [57664/60000]\n",
      "Test Error: \n",
      "Average loss: 63.0%, Avg loss: 1.488901\n",
      "\n",
      "Epoch 4/5\n",
      "Loss: 1.552774 [   64/60000]\n",
      "Loss: 1.512406 [ 6464/60000]\n",
      "Loss: 1.377605 [12864/60000]\n",
      "Loss: 1.456071 [19264/60000]\n",
      "Loss: 1.339910 [25664/60000]\n",
      "Loss: 1.330297 [32064/60000]\n",
      "Loss: 1.341105 [38464/60000]\n",
      "Loss: 1.273421 [44864/60000]\n",
      "Loss: 1.301775 [51264/60000]\n",
      "Loss: 1.205114 [57664/60000]\n",
      "Test Error: \n",
      "Average loss: 64.0%, Avg loss: 1.232493\n",
      "\n",
      "Epoch 5/5\n",
      "Loss: 1.301399 [   64/60000]\n",
      "Loss: 1.283037 [ 6464/60000]\n",
      "Loss: 1.130044 [12864/60000]\n",
      "Loss: 1.244318 [19264/60000]\n",
      "Loss: 1.112328 [25664/60000]\n",
      "Loss: 1.132184 [32064/60000]\n",
      "Loss: 1.156471 [38464/60000]\n",
      "Loss: 1.098886 [44864/60000]\n",
      "Loss: 1.135353 [51264/60000]\n",
      "Loss: 1.053293 [57664/60000]\n",
      "Test Error: \n",
      "Average loss: 65.1%, Avg loss: 1.072100\n",
      "\n",
      "Done!\n"
     ]
    }
   ],
   "source": [
    "epochs = 5\n",
    "for epoch in range(epochs):\n",
    "    print('Epoch {}/{}'.format(epoch+1, epochs))\n",
    "    train(train_dataloader, model, loss_fn, optimizer)\n",
    "    test(test_dataloader, model, loss_fn)\n",
    "print(\"Done!\")"
   ],
   "metadata": {
    "collapsed": false,
    "ExecuteTime": {
     "end_time": "2023-12-16T13:42:51.847091400Z",
     "start_time": "2023-12-16T13:42:12.478836900Z"
    }
   },
   "id": "3bababf8ad3f13d8"
  },
  {
   "cell_type": "code",
   "execution_count": 54,
   "outputs": [
    {
     "name": "stdout",
     "output_type": "stream",
     "text": [
      "Saved model to disk\n"
     ]
    }
   ],
   "source": [
    "torch.save(model.state_dict(), \"model.pth\")\n",
    "print(\"Saved model to disk\")"
   ],
   "metadata": {
    "collapsed": false,
    "ExecuteTime": {
     "end_time": "2023-12-16T13:42:51.867089900Z",
     "start_time": "2023-12-16T13:42:51.849091300Z"
    }
   },
   "id": "a06ff5a57569d628"
  },
  {
   "cell_type": "code",
   "execution_count": 58,
   "outputs": [
    {
     "data": {
      "text/plain": "<All keys matched successfully>"
     },
     "execution_count": 58,
     "metadata": {},
     "output_type": "execute_result"
    }
   ],
   "source": [
    "model = NeuralNetwork().to(device)\n",
    "model.load_state_dict(torch.load(\"model.pth\"))"
   ],
   "metadata": {
    "collapsed": false,
    "ExecuteTime": {
     "end_time": "2023-12-16T13:51:52.809386Z",
     "start_time": "2023-12-16T13:51:52.788369500Z"
    }
   },
   "id": "f6c683ae9e8c54c1"
  },
  {
   "cell_type": "markdown",
   "source": [
    "### Make Predict"
   ],
   "metadata": {
    "collapsed": false
   },
   "id": "1bcaab264451c7e7"
  },
  {
   "cell_type": "code",
   "execution_count": 59,
   "outputs": [
    {
     "name": "stdout",
     "output_type": "stream",
     "text": [
      "Predicted: \"Ankle boot\", Actual: \"Ankle boot\"\n"
     ]
    }
   ],
   "source": [
    "classes = [\n",
    "    \"T-shirt/top\",\n",
    "    \"Trouser\",\n",
    "    \"Pullover\",\n",
    "    \"Dress\",\n",
    "    \"Coat\",\n",
    "    \"Sandal\",\n",
    "    \"Shirt\",\n",
    "    \"Sneaker\",\n",
    "    \"Bag\",\n",
    "    \"Ankle boot\",\n",
    "]\n",
    "\n",
    "model.eval()\n",
    "x, y = test_dataset[0][0], test_dataset[0][1]\n",
    "with torch.no_grad():\n",
    "    x = x.to(device)\n",
    "    pred = model(x)\n",
    "    predicted, actual = classes[pred[0].argmax(0)], classes[y]\n",
    "    print(f'Predicted: \"{predicted}\", Actual: \"{actual}\"')"
   ],
   "metadata": {
    "collapsed": false,
    "ExecuteTime": {
     "end_time": "2023-12-16T13:51:52.826300100Z",
     "start_time": "2023-12-16T13:51:52.808386500Z"
    }
   },
   "id": "8abefd3ebcd74d2b"
  }
 ],
 "metadata": {
  "kernelspec": {
   "display_name": "Python 3",
   "language": "python",
   "name": "python3"
  },
  "language_info": {
   "codemirror_mode": {
    "name": "ipython",
    "version": 2
   },
   "file_extension": ".py",
   "mimetype": "text/x-python",
   "name": "python",
   "nbconvert_exporter": "python",
   "pygments_lexer": "ipython2",
   "version": "2.7.6"
  }
 },
 "nbformat": 4,
 "nbformat_minor": 5
}
